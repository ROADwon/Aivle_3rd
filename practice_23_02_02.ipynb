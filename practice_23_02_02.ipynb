{
 "cells": [
  {
   "attachments": {},
   "cell_type": "markdown",
   "metadata": {},
   "source": [
    "### 2023.02.02 KT_AIVLE_3rd"
   ]
  },
  {
   "attachments": {},
   "cell_type": "markdown",
   "metadata": {},
   "source": [
    "#### 미니실습 1"
   ]
  },
  {
   "cell_type": "code",
   "execution_count": 6,
   "metadata": {},
   "outputs": [
    {
     "name": "stdout",
     "output_type": "stream",
     "text": [
      "세정수의 최댓값을 입력하세요\n",
      "최댓값은5입니다\n"
     ]
    }
   ],
   "source": [
    "print(\"세정수의 최댓값을 입력하세요\")\n",
    "a = int(input(\"a를 입력하세요:\"))\n",
    "b = int(input(\"b를 입력하세요:\"))\n",
    "c = int(input(\"c를 입력하세요:\"))\n",
    "d = int(input(\"d를 입력하세요:\"))\n",
    "maximum = a \n",
    "if b > maximum:\n",
    "   maximum = b\n",
    "if c > maximum:\n",
    "    maximum = c\n",
    "if d > maximum:\n",
    "    maximum = d\n",
    "print(f'최댓값은{maximum}입니다')"
   ]
  },
  {
   "attachments": {},
   "cell_type": "markdown",
   "metadata": {},
   "source": [
    "#### 미니실습2"
   ]
  },
  {
   "cell_type": "code",
   "execution_count": 11,
   "metadata": {},
   "outputs": [
    {
     "name": "stdout",
     "output_type": "stream",
     "text": [
      "수도요금을 계산합니다.\n",
      "수도요금은 20000입니다.\n"
     ]
    }
   ],
   "source": [
    "def waterPay(co,usage):\n",
    "    pay = 0\n",
    "    \n",
    "    if co == 'A':\n",
    "        pay = usage*100\n",
    "    else:\n",
    "        if usage <= 50 :\n",
    "            pay = usage*150\n",
    "        else:\n",
    "            pay = 50*150 + (usage-50)*75   \n",
    "    return pay\n",
    "print('수도요금을 계산합니다.')\n",
    "co = input('수도회사를 입력하세요')\n",
    "usage = int(input('수도사용량을 입력하세요'))\n",
    "\n",
    "print(f'수도요금은 {waterPay(co,usage)}입니다.')"
   ]
  },
  {
   "attachments": {},
   "cell_type": "markdown",
   "metadata": {},
   "source": [
    "#### 미니실습 3"
   ]
  },
  {
   "cell_type": "code",
   "execution_count": 20,
   "metadata": {},
   "outputs": [
    {
     "name": "stdout",
     "output_type": "stream",
     "text": [
      "a부터 b까지 정수의 합을 구합니다.\n",
      "3+4+5+6+6=0\n"
     ]
    }
   ],
   "source": [
    "print('a부터 b까지 정수의 합을 구합니다.')\n",
    "a = int(input('정수 a를 입력해 주세요'))\n",
    "b = int(input('정수 b를 입력해 주세요'))\n",
    "\n",
    "if a>b:\n",
    "    a,b = b,a\n",
    "sum = 0\n",
    "\n",
    "for i in range(a, b):\n",
    "    if i < b:\n",
    "        print(f'{i}+',end='')\n",
    "        sum + i\n",
    "    \n",
    "print(f'{i}=',end='')   \n",
    "print(sum)"
   ]
  },
  {
   "attachments": {},
   "cell_type": "markdown",
   "metadata": {},
   "source": [
    "#### 미니실습 4"
   ]
  },
  {
   "cell_type": "code",
   "execution_count": 31,
   "metadata": {},
   "outputs": [
    {
     "name": "stdout",
     "output_type": "stream",
     "text": [
      "1x34\n",
      "34x1\n",
      "2x17\n",
      "17x2\n"
     ]
    }
   ],
   "source": [
    "area = int(input('직사각형의 넓이를 입력하세요:'))\n",
    "\n",
    "for i in range(1, area+1):\n",
    "    if i*i>area : break\n",
    "    if area %i: continue\n",
    "    print(f'{i}x{area//i}')\n",
    "    print(f'{area//i}x{i}')"
   ]
  },
  {
   "attachments": {},
   "cell_type": "markdown",
   "metadata": {},
   "source": [
    "### 알고리즘 실습 1 (2023.02.02 python 기초 실습)"
   ]
  },
  {
   "attachments": {},
   "cell_type": "markdown",
   "metadata": {},
   "source": [
    "#### 수도요금 계산기"
   ]
  },
  {
   "cell_type": "code",
   "execution_count": 47,
   "metadata": {},
   "outputs": [
    {
     "name": "stdout",
     "output_type": "stream",
     "text": [
      "전기요금을 계산합니다.\n",
      "납부 금액은 33717원 입니다\n"
     ]
    }
   ],
   "source": [
    "def electricPay(usage):\n",
    "    pay = 0\n",
    "    if usage <= 100 :\n",
    "        pay = 410 + usage*60.7\n",
    "    elif usage > 100 and usage <=200 :\n",
    "        pay =  910 + (usage-100)*60.7 + (usage-100)*125.9\n",
    "    else :\n",
    "        pay = 1600 + (100*60.7) + (100*125.9) + (usage-200)*187.9\n",
    "        \n",
    "    pay = pay + pay*0.037 + pay*0.1\n",
    "    return int(pay)\n",
    "print('전기요금을 계산합니다.')\n",
    "usage = int(input(\"사용량을 입력해 주세요\"))\n",
    "\n",
    "print(f'납부 금액은 {electricPay(usage)}원 입니다')"
   ]
  },
  {
   "attachments": {},
   "cell_type": "markdown",
   "metadata": {},
   "source": [
    "#### 알고리즘 실습 2"
   ]
  },
  {
   "cell_type": "code",
   "execution_count": 60,
   "metadata": {},
   "outputs": [
    {
     "name": "stdout",
     "output_type": "stream",
     "text": [
      "+ 와 -를 번갈아 출력합니다\n",
      "+-+-+-+-+-+-"
     ]
    }
   ],
   "source": [
    "print('+ 와 -를 번갈아 출력합니다')\n",
    "num = int(input(\"몇개를 출력할까요?\"))\n",
    "\n",
    "for i in range(1,num+1) :\n",
    "    if i%2 :\n",
    "        print(\"+\",end='')\n",
    "    else :\n",
    "        print(\"-\",end='')\n",
    "        "
   ]
  },
  {
   "attachments": {},
   "cell_type": "markdown",
   "metadata": {},
   "source": [
    "#### 알고리즘 실습3"
   ]
  },
  {
   "cell_type": "code",
   "execution_count": 65,
   "metadata": {},
   "outputs": [
    {
     "name": "stdout",
     "output_type": "stream",
     "text": [
      "12345679101112"
     ]
    }
   ],
   "source": [
    "for i in range(1,13) :\n",
    "    if i == 8 :continue\n",
    "    print(i,end='')\n",
    "    "
   ]
  },
  {
   "attachments": {},
   "cell_type": "markdown",
   "metadata": {},
   "source": [
    "#### 알고리즘 실습 4"
   ]
  },
  {
   "cell_type": "code",
   "execution_count": 70,
   "metadata": {},
   "outputs": [
    {
     "name": "stdout",
     "output_type": "stream",
     "text": [
      "2**4 = 16\n",
      "4**2 = 16\n"
     ]
    }
   ],
   "source": [
    "val = int(input(\"정수를 입력해주세요\"))\n",
    "flag = 0\n",
    "for root in range(1,val+1):\n",
    "    for pwr in range(2,7):\n",
    "        if (root**pwr) == val :\n",
    "            print(f'{root}**{pwr} = {val}')\n",
    "            flag =1\n",
    "if flag ==0:\n",
    "    print(\"해당값이 없습니다.\") "
   ]
  }
 ],
 "metadata": {
  "kernelspec": {
   "display_name": "base",
   "language": "python",
   "name": "python3"
  },
  "language_info": {
   "codemirror_mode": {
    "name": "ipython",
    "version": 3
   },
   "file_extension": ".py",
   "mimetype": "text/x-python",
   "name": "python",
   "nbconvert_exporter": "python",
   "pygments_lexer": "ipython3",
   "version": "3.9.13"
  },
  "orig_nbformat": 4,
  "vscode": {
   "interpreter": {
    "hash": "f08154012ddadd8e950e6e9e035c7a7b32c136e7647e9b7c77e02eb723a8bedb"
   }
  }
 },
 "nbformat": 4,
 "nbformat_minor": 2
}
