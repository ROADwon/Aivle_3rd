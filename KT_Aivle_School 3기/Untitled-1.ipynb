{
 "cells": [
  {
   "cell_type": "code",
   "execution_count": null,
   "metadata": {},
   "outputs": [],
   "source": [
    "# Q3 answer template\n",
    "\n",
    "def solution(store, customer):\n",
    "    answer = []\n",
    "    pos = 'yes'\n",
    "    neg = 'no'\n",
    "    for i in customer:\n",
    "        if i in store:\n",
    "            answer.append(pos)\n",
    "        else : \n",
    "            answer.append(neg)\n",
    "    return answer\n",
    "\n",
    "store = [2,3,7,8,9]\n",
    "customer = [7,5,9]\n",
    "answer = solution(store, customer)\n",
    "print(answer)"
   ]
  },
  {
   "cell_type": "markdown",
   "metadata": {},
   "source": []
  }
 ],
 "metadata": {
  "language_info": {
   "name": "python"
  },
  "orig_nbformat": 4
 },
 "nbformat": 4,
 "nbformat_minor": 2
}
