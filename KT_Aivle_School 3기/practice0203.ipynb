{
 "cells": [
  {
   "attachments": {},
   "cell_type": "markdown",
   "metadata": {},
   "source": [
    "### KT_Aivle_School 3기 AI트랙 2023.02.03 파이썬 기초실습"
   ]
  },
  {
   "attachments": {},
   "cell_type": "markdown",
   "metadata": {},
   "source": [
    "#### 미니실습 1\n",
    "> 튜플,리스트,문자열에서 최솟값 찾기"
   ]
  },
  {
   "cell_type": "code",
   "execution_count": 6,
   "metadata": {},
   "outputs": [
    {
     "name": "stdout",
     "output_type": "stream",
     "text": [
      "1\n",
      "g\n",
      "AAC\n"
     ]
    }
   ],
   "source": [
    "def min_of(a):\n",
    "    minimum = a[0]\n",
    "    for i in range(1,len(a)):\n",
    "        if a[i] < minimum:\n",
    "            minimum = a[i]\n",
    "    return minimum\n",
    "\n",
    "t = (4,7,5.6,2,3.14,1)\n",
    "s = 'string'\n",
    "a = ['DTS','AAC','FLAC']\n",
    "\n",
    "print(f'{min_of(t)}')\n",
    "print(f'{min_of(s)}')\n",
    "print(f'{min_of(a)}')"
   ]
  },
  {
   "attachments": {},
   "cell_type": "markdown",
   "metadata": {},
   "source": [
    "#### 예제1"
   ]
  },
  {
   "cell_type": "code",
   "execution_count": 7,
   "metadata": {},
   "outputs": [
    {
     "name": "stdout",
     "output_type": "stream",
     "text": [
      "[7, 6, 9, 3, 1, 5, 2]\n"
     ]
    }
   ],
   "source": [
    "def reverse_list(a):\n",
    "    n = len(a)\n",
    "    for i in range(n//2):\n",
    "        a[i],a[n-i-1] = a[n-i-1],a[i]\n",
    "        \n",
    "a = [2,5,1,3,9,6,7]\n",
    "reverse_list(a)\n",
    "print(a)"
   ]
  },
  {
   "attachments": {},
   "cell_type": "markdown",
   "metadata": {},
   "source": [
    "#### 미니실습 2\n",
    "> 리스트를 사용자로부터 입력 받아서 역순으로 정렬하여 리스트의 원소를 출력."
   ]
  },
  {
   "cell_type": "code",
   "execution_count": 5,
   "metadata": {},
   "outputs": [
    {
     "name": "stdout",
     "output_type": "stream",
     "text": [
      "리스트를 역순으로 출력합니다.\n",
      "리스트를 역순으로 출력합니다.\n",
      "x[0] = 3\n",
      "x[1] = 2\n",
      "x[2] = 1\n"
     ]
    }
   ],
   "source": [
    "def reverse_list(a):\n",
    "    n = len(a)\n",
    "    for i in range(n//2):\n",
    "        a[i],a[n-i-1] = a[n-i-1],a[i]\n",
    "        \n",
    "print('리스트를 역순으로 출력합니다.')\n",
    "num = int(input('원소 수를 입력하세요.: '))\n",
    "x = [None] * num # 원소 수가 num인 리스트를 생성\n",
    "\n",
    "for i in range(num):\n",
    "    x[i] = int(input(f'x[{i}]값을 입력하세요.: '))\n",
    "\n",
    "reverse_list(x)\n",
    "\n",
    "print('리스트를 역순으로 출력합니다.')\n",
    "for i in range(num):\n",
    "    print(f'x[{i}] = {x[i]}')\n",
    "    "
   ]
  },
  {
   "attachments": {},
   "cell_type": "markdown",
   "metadata": {},
   "source": [
    "#### 미니실습 3\n",
    "> 선형검색 While 문과 보초법 Sentinel Method"
   ]
  },
  {
   "cell_type": "code",
   "execution_count": 31,
   "metadata": {},
   "outputs": [
    {
     "name": "stdout",
     "output_type": "stream",
     "text": [
      "검색값은 a[(6, 14)]에 있습니다.\n"
     ]
    }
   ],
   "source": [
    "# 선형 검색 While문\n",
    "def seq_search(a, key):\n",
    "    i = 0\n",
    "    val = 0\n",
    "    while True:\n",
    "        val += 1\n",
    "        if i == len(a):\n",
    "            return (-1,val)\n",
    "        val += 1   \n",
    "        if a[i] == key:\n",
    "            return (i,val)\n",
    "        i += 1\n",
    "key = int(input(\"찾을 수를 입력해주세요\"))    \n",
    "a = [2,5,1,3,9,6,7] \n",
    "index = seq_search(a,key) \n",
    "if index == -1:\n",
    "    print('검색값을 갖는 원소가 존재하지 않습니다.')\n",
    "else:\n",
    "    print(f'검색값은 a[{index}]에 있습니다.')      "
   ]
  },
  {
   "cell_type": "code",
   "execution_count": 33,
   "metadata": {},
   "outputs": [
    {
     "name": "stdout",
     "output_type": "stream",
     "text": [
      "검색값은 a[(6, 7)]에 있습니다.\n"
     ]
    }
   ],
   "source": [
    "# 보초법 Sentinel Method\n",
    "def seq_search_sentinel(b, key):\n",
    "    a = b.copy()\n",
    "    a.append(key)\n",
    "    val = 0\n",
    "    i=0\n",
    "    while True:\n",
    "        val += 1\n",
    "        if a[i] == key:\n",
    "            break\n",
    "        i += 1\n",
    "    return (-1,val) if i == len(b) else (i,val)\n",
    "\n",
    "a = [2, 5, 1, 3, 9, 6, 7]\n",
    "index = seq_search_sentinel(a, 7)\n",
    "\n",
    "if index == -1:\n",
    "    print('검색값을 갖는 원소가 존재하지 않습니다.')\n",
    "else:\n",
    "    print(f'검색값은 a[{index}]에 있습니다.')"
   ]
  },
  {
   "attachments": {},
   "cell_type": "markdown",
   "metadata": {},
   "source": [
    "#### 미니미니실습 4 \n",
    "> 실습 3번 리스트와 검색할 값을 사용자로부터 입력받아서 검색값이 있는 인덱스를 출력하라"
   ]
  },
  {
   "cell_type": "code",
   "execution_count": 50,
   "metadata": {},
   "outputs": [
    {
     "name": "stdout",
     "output_type": "stream",
     "text": [
      "리스트는[1, 2, 3]\n",
      "검색값2은 a[1]에 있습니다.\n"
     ]
    }
   ],
   "source": [
    "\n",
    "def bin_search(val,key):\n",
    "    pl = 0 #가장 좌측 값\n",
    "    pr = len(val)-1\n",
    "    \n",
    "    while pl<=pr:\n",
    "        pc = (pl+pr)//2\n",
    "        if val[pc] == key:\n",
    "            return pc\n",
    "        elif val[pc] < key:\n",
    "            pl = pc+1\n",
    "        else:\n",
    "            pr = pc-1\n",
    "val = list(map(int,input('오름차순으로 입력해주세요').split()))           \n",
    "key = int(input(\"검색할 숫자를 입력해주세요\"))\n",
    "\n",
    "index = bin_search(val,key)\n",
    "\n",
    "if index == -1 :\n",
    "    print(\"no search in list\")\n",
    "else :\n",
    "    print(f'리스트는{val}')\n",
    "    print(f'검색값{key}은 a[{index}]에 있습니다.')\n"
   ]
  },
  {
   "attachments": {},
   "cell_type": "markdown",
   "metadata": {},
   "source": [
    "#### 실습 1\n",
    "> 2부터 1000까지 수중에서 소수를 리스트에 입력하고 출력하라.\n",
    ">> 소수는 자신과 1이외에 정수로 나누어 떨어지지 않는 정수이며, 2는 소수임."
   ]
  },
  {
   "cell_type": "code",
   "execution_count": 65,
   "metadata": {},
   "outputs": [
    {
     "name": "stdout",
     "output_type": "stream",
     "text": [
      "[2, 3, 5, 7, 11, 13, 17, 19, 23, 29, 31, 37, 41, 43, 47, 53, 59, 61, 67, 71, 73, 79, 83, 89, 97, 101, 103, 107, 109, 113, 127, 131, 137, 139, 149, 151, 157, 163, 167, 173, 179, 181, 191, 193, 197, 199, 211, 223, 227, 229, 233, 239, 241, 251, 257, 263, 269, 271, 277, 281, 283, 293, 307, 311, 313, 317, 331, 337, 347, 349, 353, 359, 367, 373, 379, 383, 389, 397, 401, 409, 419, 421, 431, 433, 439, 443, 449, 457, 461, 463, 467, 479, 487, 491, 499, 503, 509, 521, 523, 541, 547, 557, 563, 569, 571, 577, 587, 593, 599, 601, 607, 613, 617, 619, 631, 641, 643, 647, 653, 659, 661, 673, 677, 683, 691, 701, 709, 719, 727, 733, 739, 743, 751, 757, 761, 769, 773, 787, 797, 809, 811, 821, 823, 827, 829, 839, 853, 857, 859, 863, 877, 881, 883, 887, 907, 911, 919, 929, 937, 941, 947, 953, 967, 971, 977, 983, 991, 997]\n"
     ]
    }
   ],
   "source": [
    "prime = []\n",
    "\n",
    "for n in range(2,1001):\n",
    "    flag = 0\n",
    "    for i in range(2,n):\n",
    "        if n%i==0:\n",
    "            flag =1\n",
    "            break\n",
    "    if(flag==0):\n",
    "        prime.append(n)\n",
    "print(prime)"
   ]
  },
  {
   "attachments": {},
   "cell_type": "markdown",
   "metadata": {},
   "source": [
    "#### 실습 4\n",
    "> 리스트를 사용자로부터 입력받아서 최대값과 최대값이 있는 인덱스를 출력하라."
   ]
  },
  {
   "attachments": {},
   "cell_type": "markdown",
   "metadata": {},
   "source": [
    "> sol 1 함수 두개 사용해서 풀기"
   ]
  },
  {
   "cell_type": "code",
   "execution_count": null,
   "metadata": {},
   "outputs": [],
   "source": [
    "def max_fun() :\n",
    "    maximum = val[0]\n",
    "    ind = 0\n",
    "    for i in range(1,len(val)):\n",
    "        if val[i] > maximum:\n",
    "            maximum = val[i]\n",
    "            ind = i\n",
    "        return maximum,index\n",
    "def bin_search(val,key):\n",
    "    pl = 0\n",
    "    pr = len(val)-1\n",
    "    \n",
    "    while pl<= pr:\n",
    "        pc = (pl+pr)//2\n",
    "        if val[pc] ==key:\n",
    "            return pc\n",
    "        elif val[pc]<key:\n",
    "            pl = pc+1\n",
    "        else :\n",
    "            pr = pc-1\n",
    "        \n",
    "val = list(map(int,input('오름차순으로 입력해주세요').split()))           \n",
    "key = max_fun(ind)\n",
    "index = bin_search(val,key)\n",
    "\n",
    "if index == -1 :\n",
    "    print(\"no search in list\")\n",
    "else :\n",
    "    print(f'리스트는{val}')\n",
    "    print(f'최대값{key}은 a[{index}]에 있습니다.')"
   ]
  },
  {
   "attachments": {},
   "cell_type": "markdown",
   "metadata": {},
   "source": [
    "#### 추가실습 1\n",
    "> 민우의 로또에 지워진 부분을 찾기\n",
    ">> 민우의 로또 순위 최고순위와 최저순위 알아보기"
   ]
  },
  {
   "cell_type": "code",
   "execution_count": null,
   "metadata": {},
   "outputs": [],
   "source": [
    "def solution(lottos, win_nums):\n",
    "    val = 0\n",
    "    hide = 0\n",
    "    ranking = [6,6,5,4,3,2,1]\n",
    "    \n",
    "    for i in lottos:\n",
    "        if lottos[i]== 0:"
   ]
  },
  {
   "attachments": {},
   "cell_type": "markdown",
   "metadata": {},
   "source": [
    "#### 추가실습 1 정답 >"
   ]
  },
  {
   "cell_type": "code",
   "execution_count": 75,
   "metadata": {},
   "outputs": [
    {
     "name": "stdout",
     "output_type": "stream",
     "text": [
      "(3, 5)\n"
     ]
    }
   ],
   "source": [
    "def solution(lottos, win_nums):\n",
    "    cnt = 0\n",
    "    zeros = 0 #지워진 숫자\n",
    "    rank = [6,6,5,4,3,2,1]\n",
    "    # for i in range(len(lottos)):\n",
    "    #     if lottos[i] == 0:\n",
    "    #         zeros += 1\n",
    "    # >> count메소드 대신 for loop로  지워진 수 개수세기\n",
    "    zeros = lottos.count(0)#count method를 통해 지워진 수 개수를 센다.\n",
    "    \n",
    "    # for i in range(len(lottos)):\n",
    "    #     for j in range(len(win_nums)):\n",
    "    #         if win_nums[j] == lottos[i]:\n",
    "    #             cnt += 1\n",
    "    for i in lottos:\n",
    "        if i in win_nums:\n",
    "            cnt += 1\n",
    "            \n",
    "    answer = rank[cnt+zeros],rank[cnt]\n",
    "    return answer\n",
    "lottos = [44, 1, 0, 0, 31, 25]\n",
    "win_nums = [31, 10, 45, 1, 6, 19]\n",
    "answer = solution(lottos, win_nums)\n",
    "print(answer)                           "
   ]
  },
  {
   "attachments": {},
   "cell_type": "markdown",
   "metadata": {},
   "source": [
    "#### 추가실습 2\n",
    "> 없는숫자 찾아서 리스트에 추가한 후 리스트값 다 더하기."
   ]
  },
  {
   "cell_type": "code",
   "execution_count": 79,
   "metadata": {},
   "outputs": [
    {
     "name": "stdout",
     "output_type": "stream",
     "text": [
      "45\n"
     ]
    }
   ],
   "source": [
    "def solution(numbers):\n",
    "    hide = 9\n",
    "    for i in numbers:\n",
    "        if hide not in numbers:\n",
    "            numbers.append(hide)\n",
    "        answer = sum(numbers)\n",
    "        return answer\n",
    "    \n",
    "numbers = [1,2,3,4,5,6,7,8,0]\n",
    "answer = solution(numbers)\n",
    "print(answer)"
   ]
  },
  {
   "attachments": {},
   "cell_type": "markdown",
   "metadata": {},
   "source": [
    "#### 추가실습2 답안\n",
    "> 강사님은 이렇게 했더라~"
   ]
  },
  {
   "cell_type": "code",
   "execution_count": 78,
   "metadata": {},
   "outputs": [],
   "source": [
    "def solution(numbers):    \n",
    "    for i in range(10):\n",
    "        if i not in numbers:\n",
    "            sums = sums+1\n",
    "            "
   ]
  },
  {
   "attachments": {},
   "cell_type": "markdown",
   "metadata": {},
   "source": [
    "#### 추가실습 3\n",
    "> 부품 재고 파악하기"
   ]
  },
  {
   "cell_type": "code",
   "execution_count": 80,
   "metadata": {},
   "outputs": [
    {
     "name": "stdout",
     "output_type": "stream",
     "text": [
      "['yes', 'no', 'yes']\n"
     ]
    }
   ],
   "source": [
    "# Q3 answer template\n",
    "\n",
    "def solution(store, customer):\n",
    "    answer = []\n",
    "    pos = 'yes'\n",
    "    neg = 'no'\n",
    "    for i in customer:\n",
    "        if i in store:\n",
    "            answer.append(pos)\n",
    "        else : \n",
    "            answer.append(neg)\n",
    "    return answer\n",
    "\n",
    "store = [2,3,7,8,9]\n",
    "customer = [7,5,9]\n",
    "answer = solution(store, customer)\n",
    "print(answer)"
   ]
  }
 ],
 "metadata": {
  "kernelspec": {
   "display_name": "base",
   "language": "python",
   "name": "python3"
  },
  "language_info": {
   "codemirror_mode": {
    "name": "ipython",
    "version": 3
   },
   "file_extension": ".py",
   "mimetype": "text/x-python",
   "name": "python",
   "nbconvert_exporter": "python",
   "pygments_lexer": "ipython3",
   "version": "3.9.13"
  },
  "orig_nbformat": 4,
  "vscode": {
   "interpreter": {
    "hash": "f08154012ddadd8e950e6e9e035c7a7b32c136e7647e9b7c77e02eb723a8bedb"
   }
  }
 },
 "nbformat": 4,
 "nbformat_minor": 2
}
